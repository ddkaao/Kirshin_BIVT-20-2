{
 "cells": [
  {
   "cell_type": "markdown",
   "id": "596b4987",
   "metadata": {},
   "source": [
    "# Лабораторная работа №1\n",
    "\n",
    "ФИО:   \n",
    "Группа: \n",
    "\n",
    "Отправлять можно следующими способами:\n",
    "1. Создать **приватный** репозиторий на github, добавить меня по нику (l3lush) в Collaborators (Settings -> Collaborators -> Add people)\n",
    "2. Отправить заполненный ноутбук мне на почту avmysh@gmail.com, либо m1603956@edu.misis.ru\n",
    "3. Отправить заполненный ноутбук мне в тг @l3lush. \n",
    "\n",
    "Deadlines:\n",
    "- soft -- **05.03.2023 23:59** (за сдачу в пределах этого времени +1 балл в табличку)\n",
    "- hard -- **19.03.2023 23:59**\n",
    "\n",
    "Что необходимо сделать:\n",
    "1. Заполнить все ячейки ниже кодом так, чтобы прошли все `assert`ы."
   ]
  },
  {
   "cell_type": "markdown",
   "id": "2213731a",
   "metadata": {},
   "source": [
    "# 0. Пример работы assert"
   ]
  },
  {
   "cell_type": "markdown",
   "id": "0dcee059",
   "metadata": {},
   "source": [
    "`assert` предназначен для проверки каких-либо условий.  \n",
    "Если условие истинно (возвращается `True`), код выполняется без ошибок, в противном случае выходит `AssertionError`.  <br />\n",
    "Ниже пример работы `assert`ов (в ячейке с примером `assert a > 6` можно оставить ошибку, но нигде далее в коде ошибок быть **не должно**)    <br />\n",
    "P.S. `assert`ы менять никак **нельзя**"
   ]
  },
  {
   "cell_type": "code",
   "execution_count": 1,
   "id": "31be897b",
   "metadata": {},
   "outputs": [],
   "source": [
    "a = 5\n",
    "assert a == 5  # assert проходит, т.к. a равно 0"
   ]
  },
  {
   "cell_type": "code",
   "execution_count": 2,
   "id": "139c9ca8",
   "metadata": {},
   "outputs": [
    {
     "ename": "AssertionError",
     "evalue": "",
     "output_type": "error",
     "traceback": [
      "\u001b[1;31m---------------------------------------------------------------------------\u001b[0m",
      "\u001b[1;31mAssertionError\u001b[0m                            Traceback (most recent call last)",
      "\u001b[1;32m~\\AppData\\Local\\Temp\\ipykernel_24668\\1589179466.py\u001b[0m in \u001b[0;36m<module>\u001b[1;34m\u001b[0m\n\u001b[1;32m----> 1\u001b[1;33m \u001b[1;32massert\u001b[0m \u001b[0ma\u001b[0m \u001b[1;33m>\u001b[0m \u001b[1;36m6\u001b[0m  \u001b[1;31m# assert не проходит, т.к. а не больше 6, выпадает ошибка\u001b[0m\u001b[1;33m\u001b[0m\u001b[1;33m\u001b[0m\u001b[0m\n\u001b[0m",
      "\u001b[1;31mAssertionError\u001b[0m: "
     ]
    }
   ],
   "source": [
    "assert a > 6  # assert не проходит, т.к. а не больше 6, выпадает ошибка"
   ]
  },
  {
   "cell_type": "markdown",
   "id": "a72f14da",
   "metadata": {},
   "source": [
    "# 1. Базовые типы переменных"
   ]
  },
  {
   "cell_type": "markdown",
   "id": "ccfb5acf",
   "metadata": {},
   "source": [
    "Создайте переменные так, чтобы они были объектами определенного типа (типы приведены в комментариях)."
   ]
  },
  {
   "cell_type": "code",
   "execution_count": 3,
   "id": "db46e8d6",
   "metadata": {},
   "outputs": [],
   "source": [
    "int_variable = 5  # int\n",
    "assert isinstance(int_variable, int)\n",
    "\n",
    "float_variable = 5.0  # float\n",
    "assert isinstance(float_variable, float)\n",
    "\n",
    "string_variable = \"five\"  # string\n",
    "assert isinstance(string_variable, str)\n",
    "\n",
    "bool_variable = True  # bool\n",
    "assert isinstance(bool_variable, bool)"
   ]
  },
  {
   "cell_type": "code",
   "execution_count": 4,
   "id": "ed1861a0",
   "metadata": {},
   "outputs": [],
   "source": [
    "list_variable = [1, 2, 3, 4, 5]  # list\n",
    "assert isinstance(list_variable, list)\n",
    "\n",
    "tuple_variable = (1, 2, 3, 4, 5)  # tuple\n",
    "assert isinstance(tuple_variable, tuple)\n",
    "\n",
    "set_variable = {1, 2, 3, 4, 5}  # set\n",
    "assert isinstance(set_variable, set)\n",
    "\n",
    "dict_variable = {1: 2, 3: 4, 5: 6}  # dict\n",
    "assert isinstance(dict_variable, dict)"
   ]
  },
  {
   "cell_type": "markdown",
   "id": "52830470",
   "metadata": {},
   "source": [
    "# 2. Различные функции"
   ]
  },
  {
   "cell_type": "code",
   "execution_count": 6,
   "id": "3eb16cbe",
   "metadata": {},
   "outputs": [],
   "source": [
    "def difference_of_two_numbers(first, second):\n",
    "    output = first - second\n",
    "    return output\n",
    "    pass\n",
    "\n",
    "\n",
    "assert difference_of_two_numbers(2, 1) == 1\n",
    "assert difference_of_two_numbers(4, 1) == 3\n",
    "assert difference_of_two_numbers(10, 0) == 10\n",
    "assert difference_of_two_numbers(-5, -6) == 1"
   ]
  },
  {
   "cell_type": "code",
   "execution_count": 11,
   "id": "65ff4881",
   "metadata": {},
   "outputs": [],
   "source": [
    "def condition_function(input_number):\n",
    "    if input_number <= 0: \n",
    "        return input_number * 2\n",
    "    elif input_number <= 10:\n",
    "        return input_number * 3\n",
    "    else:\n",
    "        return input_number / 10\n",
    "    pass\n",
    "\n",
    "\n",
    "assert condition_function(0) == 0\n",
    "assert condition_function(-1) == -2\n",
    "assert condition_function(1) == 3\n",
    "assert condition_function(10) == 30\n",
    "assert condition_function(11) == 1.1\n",
    "assert condition_function(20) == 2"
   ]
  },
  {
   "cell_type": "code",
   "execution_count": 13,
   "id": "51264059",
   "metadata": {},
   "outputs": [],
   "source": [
    "def calculator(number_1, operation, number_2):\n",
    "    if operation == \"+\":\n",
    "        return number_1 + number_2\n",
    "    elif operation == \"-\":\n",
    "        return number_1 - number_2\n",
    "    elif operation == \"*\":\n",
    "        return number_1 * number_2\n",
    "    elif operation == \"/\":\n",
    "        return number_1 / number_2\n",
    "    pass\n",
    "\n",
    "\n",
    "assert calculator(1, \"+\", 2) == 3\n",
    "assert calculator(3, \"-\", 1) == 2\n",
    "assert calculator(4, \"*\", 3) == 12\n",
    "assert calculator(2, \"/\", 2) == 1"
   ]
  },
  {
   "cell_type": "code",
   "execution_count": 15,
   "id": "02255ff4",
   "metadata": {},
   "outputs": [],
   "source": [
    "def number_of_unique_elements(input_list):\n",
    "    a = set(input_list)\n",
    "    return len(a)\n",
    "    pass\n",
    "\n",
    "\n",
    "assert number_of_unique_elements([1, 2, 3]) == 3\n",
    "assert number_of_unique_elements([1] * 93) == 1\n",
    "assert number_of_unique_elements(list(range(1000))) == 1000"
   ]
  },
  {
   "cell_type": "code",
   "execution_count": 26,
   "id": "2a2a2363",
   "metadata": {},
   "outputs": [],
   "source": [
    "def counter(input_list):\n",
    "    dict = {}\n",
    "    for number in input_list:\n",
    "        if number not in dict:\n",
    "            dict[number] = 0\n",
    "        dict[number] = dict[number] + 1\n",
    "    return dict\n",
    "    pass\n",
    "\n",
    "\n",
    "assert counter([1, 1, 1, 2, 3]) == {1: 3, 2: 1, 3: 1}\n",
    "assert counter([1] * 1000) == {1: 1000}\n",
    "assert counter([1, 3, 5] * 100) == {1: 100, 3: 100, 5: 100}"
   ]
  },
  {
   "cell_type": "code",
   "execution_count": 31,
   "id": "c1498018",
   "metadata": {},
   "outputs": [],
   "source": [
    "def multiply_nums(input_string):\n",
    "    dot = 1\n",
    "    new_string = input_string.split(\", \")\n",
    "    for i in new_string:\n",
    "        dot = dot * int(i)\n",
    "    return dot\n",
    "    pass\n",
    "\n",
    "\n",
    "assert multiply_nums(\"2, 3\") == 6\n",
    "assert multiply_nums(\"1, 1, 1, 1, 1, 1, 1\") == 1\n",
    "assert multiply_nums(\"345, 4576, 794, 325, 0\") == 0"
   ]
  },
  {
   "cell_type": "markdown",
   "id": "202c838a",
   "metadata": {},
   "source": [
    "Реализуйте следующую функцию:\n",
    "$$\n",
    "y = sin(x)\\cdot cos(x)\n",
    "$$\n",
    "P.S. используйте библиотеку `math`"
   ]
  },
  {
   "cell_type": "code",
   "execution_count": 32,
   "id": "4121596c",
   "metadata": {},
   "outputs": [],
   "source": [
    "import math\n",
    "\n",
    "def custom_function(x):\n",
    "    y = math.sin(x) * math.cos(x)\n",
    "    return y\n",
    "    pass\n",
    "\n",
    "assert round(custom_function(1), 3) == 0.455\n",
    "assert round(custom_function(1.5), 3) == 0.071\n",
    "assert round(custom_function(2), 3) == -0.378\n",
    "assert custom_function(0) == 0"
   ]
  },
  {
   "cell_type": "markdown",
   "id": "7a2210d6",
   "metadata": {},
   "source": [
    "Реализуйте следующую функцию:\n",
    "$$\n",
    "y = \\prod\\limits_{n = 1}^n \\frac{(n+2)^x + ln(x)}{x^2 + 4n}\n",
    "$$\n",
    "P.S. используйте библиотеку `math`"
   ]
  },
  {
   "cell_type": "code",
   "execution_count": 41,
   "id": "b4698ba6",
   "metadata": {},
   "outputs": [],
   "source": [
    "import math\n",
    "\n",
    "def custom_function_1(x, n):\n",
    "    y = 1\n",
    "    i = 1\n",
    "    while (i < n + 1):\n",
    "        y = y * (((i + 2)**x + math.log(x)) / (x**2 + 4 * i))\n",
    "        i = i + 1\n",
    "    return y\n",
    "    pass\n",
    "\n",
    "\n",
    "assert round(custom_function_1(2, 3), 3) == 2.707\n",
    "assert round(custom_function_1(3, 2), 3) == 8.277\n",
    "assert round(custom_function_1(3, 3), 3) == 49.7"
   ]
  },
  {
   "cell_type": "code",
   "execution_count": 43,
   "id": "b9a4db60",
   "metadata": {},
   "outputs": [],
   "source": [
    "class MyList:\n",
    "    def __init__(self, a = []):\n",
    "        self.__new_list = a\n",
    "        pass\n",
    "    \n",
    "    def return_sum(self):\n",
    "        summary = 0\n",
    "        for i in self.__new_list:\n",
    "            summary = summary + i\n",
    "        return summary\n",
    "        pass\n",
    "    \n",
    "    def make_reverse(self):\n",
    "        reverse = list(reversed(self.__new_list))\n",
    "        return reverse\n",
    "        pass\n",
    "    \n",
    "    def make_slice(self, start, stop):\n",
    "        return self.__new_list[start:stop]\n",
    "        pass\n",
    "    \n",
    "    \n",
    "a = MyList([1, 2, 3, 4])\n",
    "assert a.return_sum() == 10\n",
    "assert a.make_reverse() == [4, 3, 2, 1]\n",
    "assert a.make_slice(0, 2) == [1, 2]\n",
    "\n",
    "b = MyList([5, 6, 6, 5])\n",
    "assert b.return_sum() == 22\n",
    "assert b.make_reverse() == [5, 6, 6, 5]\n",
    "assert b.make_slice(1, 2) == [6]"
   ]
  },
  {
   "cell_type": "code",
   "execution_count": null,
   "id": "efee0411",
   "metadata": {},
   "outputs": [],
   "source": []
  }
 ],
 "metadata": {
  "kernelspec": {
   "display_name": "Python 3 (ipykernel)",
   "language": "python",
   "name": "python3"
  },
  "language_info": {
   "codemirror_mode": {
    "name": "ipython",
    "version": 3
   },
   "file_extension": ".py",
   "mimetype": "text/x-python",
   "name": "python",
   "nbconvert_exporter": "python",
   "pygments_lexer": "ipython3",
   "version": "3.9.13"
  }
 },
 "nbformat": 4,
 "nbformat_minor": 5
}
